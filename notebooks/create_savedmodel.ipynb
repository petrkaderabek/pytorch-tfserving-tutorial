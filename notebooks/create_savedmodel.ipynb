{
 "cells": [
  {
   "cell_type": "markdown",
   "id": "24b0be6c-d542-4271-a727-1abd09298037",
   "metadata": {},
   "source": [
    "# PyTorch-TFServing Tutorial\n",
    "\n",
    "Tensorflow Serving is used to provide an API providing priorities of a particular set of offers for a particular customer in real time. The priorities come from a PyTorch model, which consumes customer ID and returns vector of priorities of all available offers. This model has to be convertes to Tensorflow SavedModel format for TF Serving to be able to use it. \n",
    "\n",
    "## Architecture\n",
    "\n",
    "### The served model\n",
    "\n",
    "Inputs:\n",
    "* Customer ID\n",
    "\n",
    "Outputs:\n",
    "* Vector of click probabilities\n",
    "* Vector of corresponding offer names\n",
    "\n",
    "### The PyTorch model under the hood\n",
    "\n",
    "Inputs:\n",
    "* 0-based customer index\n",
    "\n",
    "Outputs:\n",
    "* Vector of all click probabilities for all offers of the customer\n",
    "\n",
    "## Init"
   ]
  },
  {
   "cell_type": "code",
   "execution_count": null,
   "id": "57084346-bf2f-4c8b-8559-b2284160dd53",
   "metadata": {},
   "outputs": [],
   "source": [
    "NUM_OFFERS = 500\n",
    "NUM_CLIENTS = 1_000_000\n",
    "OFFERS = [f\"n{i}\" for i in range(NUM_OFFERS)]\n",
    "CLIENTS = [11*i for i in range(NUM_CLIENTS)]\n",
    "OFFERS_OOV_BUCKETS = 0\n",
    "CLIENTS_OOV_BUCKETS = 1\n",
    "\n",
    "SAVED_MODELS_ROOT = '../models'"
   ]
  },
  {
   "cell_type": "code",
   "execution_count": null,
   "id": "85d54c1e-0434-4678-9db9-b9b8d3dcbf5f",
   "metadata": {},
   "outputs": [],
   "source": [
    "import time\n",
    "import numpy as np\n",
    "import torch\n",
    "import torch.nn as nn\n",
    "import tensorflow as tf"
   ]
  },
  {
   "cell_type": "markdown",
   "id": "c44e66b1-b25f-4c2e-a3b6-085c4f5cf22a",
   "metadata": {},
   "source": [
    "## Build model"
   ]
  },
  {
   "cell_type": "code",
   "execution_count": null,
   "id": "f15e761d-cd17-4df3-b225-98c29b48b863",
   "metadata": {},
   "outputs": [],
   "source": [
    "class InnerModel(nn.Module):\n",
    "    def __init__(self, client_offer_matrix):\n",
    "        super().__init__()\n",
    "        # Register as a buffer so it's part of the model but not trainable\n",
    "        self.register_buffer('client_offer_matrix', client_offer_matrix)\n",
    "\n",
    "    def forward(self, client_indices):\n",
    "        # client_indices: shape (batch,)\n",
    "        return self.client_offer_matrix[client_indices]  # shape (batch, num_offers)"
   ]
  },
  {
   "cell_type": "code",
   "execution_count": null,
   "id": "acbccc3d-f5f8-4110-a5f2-8cf172de556e",
   "metadata": {},
   "outputs": [],
   "source": [
    "def get_test_matrix(nrows, ncols):\n",
    "    row_indices = tf.range(nrows, dtype=tf.float32)[:, tf.newaxis]\n",
    "    col_indices = tf.range(ncols, dtype=tf.float32)[tf.newaxis, :]\n",
    "    return 1000.0 * row_indices + col_indices"
   ]
  },
  {
   "cell_type": "code",
   "execution_count": null,
   "id": "1407ec10-4591-4f89-8f30-9a6d2cae1f16",
   "metadata": {},
   "outputs": [],
   "source": [
    "test_matrix = get_test_matrix(len(CLIENTS) + CLIENTS_OOV_BUCKETS, len(OFFERS) + OFFERS_OOV_BUCKETS)"
   ]
  },
  {
   "cell_type": "code",
   "execution_count": null,
   "id": "e7c63f63-0f89-42a9-8e58-04a16d1b2dd4",
   "metadata": {},
   "outputs": [],
   "source": [
    "TEST_CLIENT_INDICES = [0, 3, 2, 0]\n",
    "model = InnerModel(torch.from_numpy(test_matrix.numpy()).float(), )\n",
    "client_indices = torch.tensor(TEST_CLIENT_INDICES)  # shape (batch,)\n",
    "output = model(client_indices)\n",
    "\n",
    "print(output)\n",
    "\n",
    "print(f\"output.shape: {output.shape}\")"
   ]
  },
  {
   "cell_type": "code",
   "execution_count": null,
   "id": "031cff40-1889-4144-9984-63601d801022",
   "metadata": {},
   "outputs": [],
   "source": [
    "assert output.shape == (client_indices.shape[0], len(OFFERS)+OFFERS_OOV_BUCKETS)"
   ]
  },
  {
   "cell_type": "markdown",
   "id": "544c314e-596c-4e9a-995e-e30452049d5a",
   "metadata": {},
   "source": [
    "## Convert InnerModel to TensorFlow"
   ]
  },
  {
   "cell_type": "code",
   "execution_count": null,
   "id": "f4fa1f5b-8992-471a-8dad-c5d923e8ba2f",
   "metadata": {},
   "outputs": [],
   "source": [
    "import sys\n",
    "sys.version"
   ]
  },
  {
   "cell_type": "code",
   "execution_count": null,
   "id": "2dff36fe-f717-4516-baeb-30e401917cdf",
   "metadata": {},
   "outputs": [],
   "source": [
    "import nobuco\n",
    "from nobuco import ChannelOrder, ChannelOrderingStrategy, convert\n",
    "from nobuco.layers.weight import WeightLayer"
   ]
  },
  {
   "cell_type": "code",
   "execution_count": null,
   "id": "580e8c9a-1a4a-43b5-ba7c-9299feb3bb73",
   "metadata": {},
   "outputs": [],
   "source": [
    "keras_model = nobuco.pytorch_to_keras(\n",
    "    model,\n",
    "    args=[client_indices],\n",
    "    input_shapes={client_indices: (None,)}\n",
    ")"
   ]
  },
  {
   "cell_type": "code",
   "execution_count": null,
   "id": "434970ab-2514-4adb-afe9-22fdc750c0ce",
   "metadata": {},
   "outputs": [],
   "source": [
    "keras_model.summary()"
   ]
  },
  {
   "cell_type": "code",
   "execution_count": null,
   "id": "9c0632d6-84ea-422a-bd8b-500b0d4bbc42",
   "metadata": {},
   "outputs": [],
   "source": [
    "keras_output = keras_model(np.array(TEST_CLIENT_INDICES))"
   ]
  },
  {
   "cell_type": "code",
   "execution_count": null,
   "id": "b045de72-3036-4551-9dce-91951fe0e6d4",
   "metadata": {},
   "outputs": [],
   "source": [
    "assert np.allclose(keras_output.numpy(), output)"
   ]
  },
  {
   "cell_type": "code",
   "execution_count": null,
   "id": "de341606-3c3a-44c2-9453-759be84ba4dc",
   "metadata": {},
   "outputs": [],
   "source": [
    "keras_model(tf.constant([11, 22]))"
   ]
  },
  {
   "cell_type": "markdown",
   "id": "e7418f6d-188e-4956-941a-df08df1af6ca",
   "metadata": {},
   "source": [
    "## Add boilerplate\n",
    "\n",
    "* Enable having Customer IDs as input: Add lookup table converting input from Customer IDs to customer indices, which are input to the PyTorch model\n",
    "* Add constant list of offer names as another output.\n"
   ]
  },
  {
   "cell_type": "code",
   "execution_count": null,
   "id": "ef2c8fa0-5c9d-41c1-a6c9-2650eac56cc0",
   "metadata": {},
   "outputs": [],
   "source": [
    "class LookupLayer(tf.keras.layers.Layer):\n",
    "    def __init__(self, **kwargs):\n",
    "        super().__init__(**kwargs)\n",
    "        self.client_lookup_table = tf.lookup.StaticVocabularyTable(\n",
    "            tf.lookup.KeyValueTensorInitializer(\n",
    "                keys=tf.constant(CLIENTS, dtype=tf.int64),\n",
    "                values=tf.range(len(CLIENTS), dtype=tf.int64)\n",
    "            ),\n",
    "            num_oov_buckets=CLIENTS_OOV_BUCKETS\n",
    "        )\n",
    "    def call(self, inputs):\n",
    "        # Inputs: int64 tensor, shape (batch,) or (batch, ...)\n",
    "        # Returns: indices, same shape as inputs\n",
    "        return self.client_lookup_table.lookup(inputs)"
   ]
  },
  {
   "cell_type": "code",
   "execution_count": null,
   "id": "34f9df77-cc4e-4cf2-83ac-07e60d22e5dd",
   "metadata": {},
   "outputs": [],
   "source": [
    "offers_tf_tensor = tf.constant(OFFERS, dtype=tf.string)"
   ]
  },
  {
   "cell_type": "code",
   "execution_count": null,
   "id": "204f6813-f08f-49bd-8a4f-c821b4e6817a",
   "metadata": {},
   "outputs": [],
   "source": [
    "inputs = tf.keras.Input(shape=(), dtype=tf.int64, name=\"client_id\")\n",
    "indices = LookupLayer()(inputs)\n",
    "x = keras_model(indices)\n",
    "main_output = tf.keras.layers.Identity(name=\"priorities\")(x)\n",
    "\n",
    "def tile_constant(x):\n",
    "    tf.print(x)\n",
    "    batch_size = tf.shape(x)[0]\n",
    "    # makes shape (batch_size, 3)\n",
    "    return tf.tile(tf.expand_dims(offers_tf_tensor, 0), [batch_size, 1])\n",
    "\n",
    "constant_output = tf.keras.layers.Lambda(tile_constant, name=\"offer_names\")(inputs)\n",
    "\n",
    "multiout_model = tf.keras.Model(inputs=inputs, outputs={\"priorities\": main_output, \"offer_names\": constant_output})\n"
   ]
  },
  {
   "cell_type": "code",
   "execution_count": null,
   "id": "1efcc536-c33e-4784-a434-5d86be5d4b96",
   "metadata": {},
   "outputs": [],
   "source": [
    "multiout_model.summary()"
   ]
  },
  {
   "cell_type": "code",
   "execution_count": null,
   "id": "7e644f0b-3f51-4672-a068-749109c81027",
   "metadata": {},
   "outputs": [],
   "source": [
    "multiout_model.outputs"
   ]
  },
  {
   "cell_type": "code",
   "execution_count": null,
   "id": "aa901c28-7625-4022-bb08-e682e72afc56",
   "metadata": {},
   "outputs": [],
   "source": [
    "out = multiout_model(tf.constant([11, 22]))   # Customer IDs\n",
    "print(\"keras_model output:\", out[\"priorities\"])\n",
    "print(\"constant offers_tf_tensor:\", out[\"offer_names\"])"
   ]
  },
  {
   "cell_type": "code",
   "execution_count": null,
   "id": "0a5355b8-f826-4fcf-b7a5-a7a59ef9b73f",
   "metadata": {},
   "outputs": [],
   "source": [
    "multiout_model.save(f\"{SAVED_MODELS_ROOT}/test_model/{int(time.time())}\", save_format=\"tf\")"
   ]
  },
  {
   "cell_type": "code",
   "execution_count": null,
   "id": "ec7ae5f6-864b-46a9-9d35-4f1903cf6ef5",
   "metadata": {},
   "outputs": [],
   "source": []
  }
 ],
 "metadata": {
  "kernelspec": {
   "display_name": "Python 3 (ipykernel)",
   "language": "python",
   "name": "python3"
  },
  "language_info": {
   "codemirror_mode": {
    "name": "ipython",
    "version": 3
   },
   "file_extension": ".py",
   "mimetype": "text/x-python",
   "name": "python",
   "nbconvert_exporter": "python",
   "pygments_lexer": "ipython3",
   "version": "3.11.11"
  }
 },
 "nbformat": 4,
 "nbformat_minor": 5
}
